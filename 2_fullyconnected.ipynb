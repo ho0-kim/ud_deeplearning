{
 "cells": [
  {
   "cell_type": "markdown",
   "metadata": {
    "colab_type": "text",
    "id": "kR-4eNdK6lYS"
   },
   "source": [
    "Deep Learning\n",
    "=============\n",
    "\n",
    "Assignment 2\n",
    "------------\n",
    "\n",
    "Previously in `1_notmnist.ipynb`, we created a pickle with formatted datasets for training, development and testing on the [notMNIST dataset](http://yaroslavvb.blogspot.com/2011/09/notmnist-dataset.html).\n",
    "\n",
    "The goal of this assignment is to progressively train deeper and more accurate models using TensorFlow."
   ]
  },
  {
   "cell_type": "code",
   "execution_count": 1,
   "metadata": {
    "cellView": "both",
    "colab": {
     "autoexec": {
      "startup": false,
      "wait_interval": 0
     }
    },
    "colab_type": "code",
    "collapsed": true,
    "id": "JLpLa8Jt7Vu4"
   },
   "outputs": [],
   "source": [
    "# These are all the modules we'll be using later. Make sure you can import them\n",
    "# before proceeding further.\n",
    "from __future__ import print_function\n",
    "import numpy as np\n",
    "import tensorflow as tf\n",
    "from six.moves import cPickle as pickle\n",
    "from six.moves import range"
   ]
  },
  {
   "cell_type": "markdown",
   "metadata": {
    "colab_type": "text",
    "id": "1HrCK6e17WzV"
   },
   "source": [
    "First reload the data we generated in `1_notmnist.ipynb`."
   ]
  },
  {
   "cell_type": "code",
   "execution_count": 2,
   "metadata": {
    "cellView": "both",
    "colab": {
     "autoexec": {
      "startup": false,
      "wait_interval": 0
     },
     "output_extras": [
      {
       "item_id": 1
      }
     ]
    },
    "colab_type": "code",
    "collapsed": false,
    "executionInfo": {
     "elapsed": 19456,
     "status": "ok",
     "timestamp": 1449847956073,
     "user": {
      "color": "",
      "displayName": "",
      "isAnonymous": false,
      "isMe": true,
      "permissionId": "",
      "photoUrl": "",
      "sessionId": "0",
      "userId": ""
     },
     "user_tz": 480
    },
    "id": "y3-cj1bpmuxc",
    "outputId": "0ddb1607-1fc4-4ddb-de28-6c7ab7fb0c33"
   },
   "outputs": [
    {
     "name": "stdout",
     "output_type": "stream",
     "text": [
      "Training set (200000, 28, 28) (200000,)\n",
      "Validation set (10000, 28, 28) (10000,)\n",
      "Test set (10000, 28, 28) (10000,)\n"
     ]
    }
   ],
   "source": [
    "pickle_file = 'notMNIST.pickle'\n",
    "\n",
    "with open(pickle_file, 'rb') as f:\n",
    "  save = pickle.load(f)\n",
    "  train_dataset = save['train_dataset']\n",
    "  train_labels = save['train_labels']\n",
    "  valid_dataset = save['valid_dataset']\n",
    "  valid_labels = save['valid_labels']\n",
    "  test_dataset = save['test_dataset']\n",
    "  test_labels = save['test_labels']\n",
    "  del save  # hint to help gc free up memory\n",
    "  print('Training set', train_dataset.shape, train_labels.shape)\n",
    "  print('Validation set', valid_dataset.shape, valid_labels.shape)\n",
    "  print('Test set', test_dataset.shape, test_labels.shape)"
   ]
  },
  {
   "cell_type": "markdown",
   "metadata": {
    "colab_type": "text",
    "id": "L7aHrm6nGDMB"
   },
   "source": [
    "Reformat into a shape that's more adapted to the models we're going to train:\n",
    "- data as a flat matrix,\n",
    "- labels as float 1-hot encodings.\n",
    "\n",
    "data를 평범한 matrix로 변환?!\n",
    "label을 one-hot encoding으로"
   ]
  },
  {
   "cell_type": "code",
   "execution_count": 3,
   "metadata": {
    "cellView": "both",
    "colab": {
     "autoexec": {
      "startup": false,
      "wait_interval": 0
     },
     "output_extras": [
      {
       "item_id": 1
      }
     ]
    },
    "colab_type": "code",
    "collapsed": false,
    "executionInfo": {
     "elapsed": 19723,
     "status": "ok",
     "timestamp": 1449847956364,
     "user": {
      "color": "",
      "displayName": "",
      "isAnonymous": false,
      "isMe": true,
      "permissionId": "",
      "photoUrl": "",
      "sessionId": "0",
      "userId": ""
     },
     "user_tz": 480
    },
    "id": "IRSyYiIIGIzS",
    "outputId": "2ba0fc75-1487-4ace-a562-cf81cae82793"
   },
   "outputs": [
    {
     "name": "stdout",
     "output_type": "stream",
     "text": [
      "Training set (200000, 784) (200000, 10)\n",
      "Validation set (10000, 784) (10000, 10)\n",
      "Test set (10000, 784) (10000, 10)\n"
     ]
    }
   ],
   "source": [
    "image_size = 28\n",
    "num_labels = 10\n",
    "\n",
    "def reformat(dataset, labels):\n",
    "  dataset = dataset.reshape((-1, image_size * image_size)).astype(np.float32) # image_size를 곱해서 하나로..\n",
    "  # Map 0 to [1.0, 0.0, 0.0 ...], 1 to [0.0, 1.0, 0.0 ...]\n",
    "  labels = (np.arange(num_labels) == labels[:,None]).astype(np.float32) # label을 one-hot으로\n",
    "  return dataset, labels\n",
    "train_dataset, train_labels = reformat(train_dataset, train_labels)\n",
    "valid_dataset, valid_labels = reformat(valid_dataset, valid_labels)\n",
    "test_dataset, test_labels = reformat(test_dataset, test_labels)\n",
    "print('Training set', train_dataset.shape, train_labels.shape)\n",
    "print('Validation set', valid_dataset.shape, valid_labels.shape)\n",
    "print('Test set', test_dataset.shape, test_labels.shape)"
   ]
  },
  {
   "cell_type": "markdown",
   "metadata": {
    "colab_type": "text",
    "id": "nCLVqyQ5vPPH"
   },
   "source": [
    "We're first going to train a multinomial logistic regression using simple gradient descent.\n",
    "\n",
    "TensorFlow works like this:\n",
    "* First you describe the computation that you want to see performed: what the inputs, the variables, and the operations look like. These get created as nodes over a computation graph. This description is all contained within the block below:\n",
    "\n",
    "      with graph.as_default():\n",
    "          ...\n",
    "\n",
    "* Then you can run the operations on this graph as many times as you want by calling `session.run()`, providing it outputs to fetch from the graph that get returned. This runtime operation is all contained in the block below:\n",
    "\n",
    "      with tf.Session(graph=graph) as session:\n",
    "          ...\n",
    "\n",
    "Let's load all the data into TensorFlow and build the computation graph corresponding to our training:\n",
    "\n",
    "일단, 간단한 gradient descent로 logistic regression을 학습시켜보자.\n",
    "\n",
    "tensorflow가 하는 일:\n",
    "* 동작하는 것 보고 싶은 것 계산하는 것을 보여준다. input, variable, operation같은 것을 보여준다. computation graph에 node를 만들어준다. 아래 block에 모든게 포함되어 있다.\n",
    "\n",
    "코드\n",
    "\n",
    "* 이 그래프에서 연산을 할 수 있다. 그것도 너가 원하는 만큼 여러번(seesion.run()이라는 게 그것을 수행), ~해석 잘 모름. 이 런타임 연산은 아래 블록에 다 포함됨.\n",
    "\n",
    "코드\n",
    "\n",
    "자, 모든 데이터를 TensorFlow에 불러와보자. 그리고 우리 학습에 맞게 computation graph를 만들어보자."
   ]
  },
  {
   "cell_type": "code",
   "execution_count": 4,
   "metadata": {
    "cellView": "both",
    "colab": {
     "autoexec": {
      "startup": false,
      "wait_interval": 0
     }
    },
    "colab_type": "code",
    "collapsed": true,
    "id": "Nfv39qvtvOl_"
   },
   "outputs": [],
   "source": [
    "# With gradient descent training, even this much data is prohibitive.\n",
    "# Subset the training data for faster turnaround.\n",
    "train_subset = 10000 # train은 10000개만\n",
    "\n",
    "graph = tf.Graph()\n",
    "with graph.as_default(): # 그래프를 만듬\n",
    "\n",
    "  # Input data. 입력\n",
    "  # Load the training, validation and test data into constants that are\n",
    "  # attached to the graph. / 모든 데이터 세트를 상수(constant)로 불러와서 graph에 적용(attach 붙)\n",
    "  tf_train_dataset = tf.constant(train_dataset[:train_subset, :]) # train은 10000개만\n",
    "  tf_train_labels = tf.constant(train_labels[:train_subset])\n",
    "  tf_valid_dataset = tf.constant(valid_dataset)\n",
    "  tf_test_dataset = tf.constant(test_dataset)\n",
    "  \n",
    "  # Variables. 변수 (파라미터)\n",
    "  # These are the parameters that we are going to be training. The weight / 얘네는 우리가 학습시킬 파라미터들이다.\n",
    "  # matrix will be initialized using random values following a (truncated) / Weight matrix는 랜덤값으로 초기화 (truncated) normal distribution으로 초기화\n",
    "  # normal distribution. The biases get initialized to zero. / bias는 0으로 초기화\n",
    "  weights = tf.Variable(\n",
    "    tf.truncated_normal([image_size * image_size, num_labels])) # truncated normal distributino으로 초기화(input개수 : image*image, output개수 : 라벨 or 클래스 수)\n",
    "  biases = tf.Variable(tf.zeros([num_labels])) # bias는 0으로\n",
    "  \n",
    "  # Training computation. / 굳이 번역 X (학습을 위한 계산 정도로 이해할 수 있을 듯)\n",
    "  # We multiply the inputs with the weight matrix, and add biases. We compute / input과 weight matrix를 곱하고, bias를 더함.\n",
    "  # the softmax and cross-entropy (it's one operation in TensorFlow, because / softmax와 cross-entropy를 계산할 것이다.(이 두 개가 tensorflow에는 하나의 function으로 구현되어있음)\n",
    "  # it's very common, and it can be optimized). We take the average of this / training example로 cross-entropy의 평균을 구할 것이다.\n",
    "  # cross-entropy across all training examples: that's our loss. / 그게 바로 loss를 의미한다.\n",
    "  logits = tf.matmul(tf_train_dataset, weights) + biases\n",
    "  loss = tf.reduce_mean(\n",
    "    tf.nn.softmax_cross_entropy_with_logits(logits, tf_train_labels))\n",
    "  \n",
    "  # Optimizer. / optimizer 최적화?!최적화기\n",
    "  # We are going to find the minimum of this loss using gradient descent. / gradient descent로 loss최소값을 찾는다.\n",
    "  optimizer = tf.train.GradientDescentOptimizer(0.5).minimize(loss)\n",
    "  \n",
    "  # Predictions for the training, validation, and test data. / 각 데이터에 대해 예측\n",
    "  # These are not part of training, but merely here so that we can report / 학습하는 부분은 아니지만, 학습의 정확성을 보고하기 위해서\n",
    "  # accuracy figures as we train.\n",
    "  train_prediction = tf.nn.softmax(logits)\n",
    "  valid_prediction = tf.nn.softmax(\n",
    "    tf.matmul(tf_valid_dataset, weights) + biases)\n",
    "  test_prediction = tf.nn.softmax(tf.matmul(tf_test_dataset, weights) + biases)"
   ]
  },
  {
   "cell_type": "markdown",
   "metadata": {
    "colab_type": "text",
    "id": "KQcL4uqISHjP"
   },
   "source": [
    "Let's run this computation and iterate:\n",
    "\n",
    "이 계산을 반복적으로 해보자:"
   ]
  },
  {
   "cell_type": "code",
   "execution_count": 5,
   "metadata": {
    "cellView": "both",
    "colab": {
     "autoexec": {
      "startup": false,
      "wait_interval": 0
     },
     "output_extras": [
      {
       "item_id": 9
      }
     ]
    },
    "colab_type": "code",
    "collapsed": false,
    "executionInfo": {
     "elapsed": 57454,
     "status": "ok",
     "timestamp": 1449847994134,
     "user": {
      "color": "",
      "displayName": "",
      "isAnonymous": false,
      "isMe": true,
      "permissionId": "",
      "photoUrl": "",
      "sessionId": "0",
      "userId": ""
     },
     "user_tz": 480
    },
    "id": "z2cjdenH869W",
    "outputId": "4c037ba1-b526-4d8e-e632-91e2a0333267"
   },
   "outputs": [
    {
     "name": "stdout",
     "output_type": "stream",
     "text": [
      "Initialized\n",
      "Loss at step 0: 17.844061\n",
      "Training accuracy: 13.8%\n",
      "Validation accuracy: 16.4%\n",
      "Loss at step 100: 2.350036\n",
      "Training accuracy: 72.2%\n",
      "Validation accuracy: 72.3%\n",
      "Loss at step 200: 1.888033\n",
      "Training accuracy: 74.9%\n",
      "Validation accuracy: 74.3%\n",
      "Loss at step 300: 1.639844\n",
      "Training accuracy: 76.1%\n",
      "Validation accuracy: 74.9%\n",
      "Loss at step 400: 1.471029\n",
      "Training accuracy: 77.0%\n",
      "Validation accuracy: 75.3%\n",
      "Loss at step 500: 1.345355\n",
      "Training accuracy: 77.9%\n",
      "Validation accuracy: 75.7%\n",
      "Loss at step 600: 1.246899\n",
      "Training accuracy: 78.6%\n",
      "Validation accuracy: 76.0%\n",
      "Loss at step 700: 1.166813\n",
      "Training accuracy: 78.9%\n",
      "Validation accuracy: 76.1%\n",
      "Loss at step 800: 1.099822\n",
      "Training accuracy: 79.3%\n",
      "Validation accuracy: 76.3%\n",
      "Test accuracy: 82.7%\n"
     ]
    }
   ],
   "source": [
    "num_steps = 801 # 반복 횟수\n",
    "\n",
    "def accuracy(predictions, labels): # 라벨과 비교해서 예측값의 정확성 계산\n",
    "  return (100.0 * np.sum(np.argmax(predictions, 1) == np.argmax(labels, 1))\n",
    "          / predictions.shape[0])\n",
    "\n",
    "with tf.Session(graph=graph) as session: # 앞서 정의한 그래프를 수행(Session에 graph 설정)\n",
    "  # This is a one-time operation which ensures the parameters get initialized as\n",
    "  # we described in the graph: random weights for the matrix, zeros for the\n",
    "  # biases. / 이 연산은 이 그래프에서 한번만 한다. 파라미터들을 초기화 시켜줌.\n",
    "  tf.initialize_all_variables().run()\n",
    "  print('Initialized')\n",
    "  for step in range(num_steps): # 연산 반복\n",
    "    # Run the computations. We tell .run() that we want to run the optimizer,\n",
    "    # and get the loss value and the training predictions returned as numpy\n",
    "    # arrays. / .run()으로 계산 진행. optimizer, loss와 training prediction을 돌려서 numpy array로 리턴해준다.\n",
    "    _, l, predictions = session.run([optimizer, loss, train_prediction]) # 실행시켜서 3 개를 리턴 받아옴.(근데 optimizer는 버리는 듯)\n",
    "    if (step % 100 == 0): # 100번마다 정확도 출력\n",
    "      print('Loss at step %d: %f' % (step, l))\n",
    "      print('Training accuracy: %.1f%%' % accuracy(\n",
    "        predictions, train_labels[:train_subset, :]))\n",
    "      # Calling .eval() on valid_prediction is basically like calling run(), but\n",
    "      # just to get that one numpy array. Note that it recomputes all its graph\n",
    "      # dependencies. / .eval()은 run()같은 건데, 1개의 numpy array만 return한다. 그래프의 모든 dependency를 재계산?!(docs를 읽어볼 것).\n",
    "      print('Validation accuracy: %.1f%%' % accuracy(\n",
    "        valid_prediction.eval(), valid_labels))\n",
    "  print('Test accuracy: %.1f%%' % accuracy(test_prediction.eval(), test_labels)) #반복 끝나고 test label로 정확성 계산"
   ]
  },
  {
   "cell_type": "markdown",
   "metadata": {
    "colab_type": "text",
    "id": "x68f-hxRGm3H"
   },
   "source": [
    "Let's now switch to stochastic gradient descent training instead, which is much faster.\n",
    "\n",
    "The graph will be similar, except that instead of holding all the training data into a constant node, we create a `Placeholder` node which will be fed actual data at every call of `session.run()`.\n",
    "\n",
    "이제부터 SGD로 해보자. 더 빠를 것이다.\n",
    "\n",
    "그래프 자체는 비슷하나, 모든 training data를 constant node로 가지고 있지 않게 한다. 대신, `placeholder`라는 노드를 만들어, `session.run()`이 불릴 때마다 실제 데이터를 feed로 삼게 한다. (실시간성?!)"
   ]
  },
  {
   "cell_type": "code",
   "execution_count": 6,
   "metadata": {
    "cellView": "both",
    "colab": {
     "autoexec": {
      "startup": false,
      "wait_interval": 0
     }
    },
    "colab_type": "code",
    "collapsed": true,
    "id": "qhPMzWYRGrzM"
   },
   "outputs": [],
   "source": [
    "batch_size = 128 #작게..\n",
    "\n",
    "graph = tf.Graph()\n",
    "with graph.as_default():\n",
    "\n",
    "  # Input data. For the training data, we use a placeholder that will be fed / 입력.\n",
    "  # at run time with a training minibatch. / training data는 minibatch를 실시간으로 먹이기 위해 placeholder를 쓴다.\n",
    "  tf_train_dataset = tf.placeholder(tf.float32,\n",
    "                                    shape=(batch_size, image_size * image_size))\n",
    "  tf_train_labels = tf.placeholder(tf.float32, shape=(batch_size, num_labels))\n",
    "  tf_valid_dataset = tf.constant(valid_dataset)\n",
    "  tf_test_dataset = tf.constant(test_dataset)\n",
    "  \n",
    "  # Variables.\n",
    "  weights = tf.Variable(\n",
    "    tf.truncated_normal([image_size * image_size, num_labels]))\n",
    "  biases = tf.Variable(tf.zeros([num_labels]))\n",
    "  \n",
    "  # Training computation.\n",
    "  logits = tf.matmul(tf_train_dataset, weights) + biases\n",
    "  loss = tf.reduce_mean(\n",
    "    tf.nn.softmax_cross_entropy_with_logits(logits, tf_train_labels))\n",
    "  \n",
    "  # Optimizer.\n",
    "  optimizer = tf.train.GradientDescentOptimizer(0.5).minimize(loss)\n",
    "  \n",
    "  # Predictions for the training, validation, and test data.\n",
    "  train_prediction = tf.nn.softmax(logits)\n",
    "  valid_prediction = tf.nn.softmax(\n",
    "    tf.matmul(tf_valid_dataset, weights) + biases)\n",
    "  test_prediction = tf.nn.softmax(tf.matmul(tf_test_dataset, weights) + biases)"
   ]
  },
  {
   "cell_type": "markdown",
   "metadata": {
    "colab_type": "text",
    "id": "XmVZESmtG4JH"
   },
   "source": [
    "Let's run it:"
   ]
  },
  {
   "cell_type": "code",
   "execution_count": 7,
   "metadata": {
    "cellView": "both",
    "colab": {
     "autoexec": {
      "startup": false,
      "wait_interval": 0
     },
     "output_extras": [
      {
       "item_id": 6
      }
     ]
    },
    "colab_type": "code",
    "collapsed": false,
    "executionInfo": {
     "elapsed": 66292,
     "status": "ok",
     "timestamp": 1449848003013,
     "user": {
      "color": "",
      "displayName": "",
      "isAnonymous": false,
      "isMe": true,
      "permissionId": "",
      "photoUrl": "",
      "sessionId": "0",
      "userId": ""
     },
     "user_tz": 480
    },
    "id": "FoF91pknG_YW",
    "outputId": "d255c80e-954d-4183-ca1c-c7333ce91d0a"
   },
   "outputs": [
    {
     "name": "stdout",
     "output_type": "stream",
     "text": [
      "Initialized\n",
      "Minibatch loss at step 0: 15.393182\n",
      "Minibatch accuracy: 9.4%\n",
      "Validation accuracy: 15.4%\n",
      "Minibatch loss at step 500: 1.476587\n",
      "Minibatch accuracy: 76.6%\n",
      "Validation accuracy: 75.5%\n",
      "Minibatch loss at step 1000: 1.563313\n",
      "Minibatch accuracy: 76.6%\n",
      "Validation accuracy: 77.0%\n",
      "Minibatch loss at step 1500: 1.233701\n",
      "Minibatch accuracy: 74.2%\n",
      "Validation accuracy: 78.0%\n",
      "Minibatch loss at step 2000: 0.945946\n",
      "Minibatch accuracy: 78.1%\n",
      "Validation accuracy: 78.1%\n",
      "Minibatch loss at step 2500: 0.959727\n",
      "Minibatch accuracy: 82.0%\n",
      "Validation accuracy: 79.0%\n",
      "Minibatch loss at step 3000: 1.134969\n",
      "Minibatch accuracy: 78.9%\n",
      "Validation accuracy: 79.3%\n",
      "Test accuracy: 85.8%\n"
     ]
    }
   ],
   "source": [
    "num_steps = 3001\n",
    "\n",
    "with tf.Session(graph=graph) as session:\n",
    "  tf.initialize_all_variables().run()\n",
    "  print(\"Initialized\")\n",
    "  for step in range(num_steps):\n",
    "    # Pick an offset within the training data, which has been randomized. / 랜덤화된 training data안에 offset을 만든다.\n",
    "    # Note: we could use better randomization across epochs. / (시간?!) 랜덤을 더 잘 사용.\n",
    "    offset = (step * batch_size) % (train_labels.shape[0] - batch_size) # offset은 minibatch를 만들기 위해서..\n",
    "    # Generate a minibatch. / minibatch를 만든다.\n",
    "    batch_data = train_dataset[offset:(offset + batch_size), :] \n",
    "    batch_labels = train_labels[offset:(offset + batch_size), :]\n",
    "    # Prepare a dictionary telling the session where to feed the minibatch. / 사전 준비 세션을 말하는 어디에서 미니배치를 먹는지\n",
    "    # The key of the dictionary is the placeholder node of the graph to be fed, / 사전의 포인트는 먹히기 위해 그래프의 플홀 노드이다.\n",
    "    # and the value is the numpy array to feed to it. / 그리고 그 값은 넘피 배열이다.\n",
    "    # tensorflow의 docs에서 session.run()에 대한 부분을 보면, feed_dict은 다음과 같이 설명되어 있다.\n",
    "    # \n",
    "    feed_dict = {tf_train_dataset : batch_data, tf_train_labels : batch_labels}\n",
    "    _, l, predictions = session.run(\n",
    "      [optimizer, loss, train_prediction], feed_dict=feed_dict)\n",
    "    if (step % 500 == 0):\n",
    "      print(\"Minibatch loss at step %d: %f\" % (step, l))\n",
    "      print(\"Minibatch accuracy: %.1f%%\" % accuracy(predictions, batch_labels))\n",
    "      print(\"Validation accuracy: %.1f%%\" % accuracy(\n",
    "        valid_prediction.eval(), valid_labels))\n",
    "  print(\"Test accuracy: %.1f%%\" % accuracy(test_prediction.eval(), test_labels))"
   ]
  },
  {
   "cell_type": "markdown",
   "metadata": {
    "colab_type": "text",
    "id": "7omWxtvLLxik"
   },
   "source": [
    "---\n",
    "Problem\n",
    "-------\n",
    "\n",
    "Turn the logistic regression example with SGD into a 1-hidden layer neural network with rectified linear units [nn.relu()](https://www.tensorflow.org/versions/r0.7/api_docs/python/nn.html#relu) and 1024 hidden nodes. This model should improve your validation / test accuracy.\n",
    "\n",
    "logistic regression SGD을 ReLU(nn.relu())와 1024개의 hidden node를 이용해서 1-hidden neural network로 바꿔라. 이 모델은 validation/test accuracy를 향상시켜준다.\n",
    "\n",
    "---"
   ]
  },
  {
   "cell_type": "code",
   "execution_count": 8,
   "metadata": {
    "collapsed": true
   },
   "outputs": [],
   "source": [
    "batch_size = 128\n",
    "hidden_node = 1024\n",
    "\n",
    "graph = tf.Graph()\n",
    "with graph.as_default():\n",
    "    # Input data. For the training data, we use a placeholder that will be fed / 입력.\n",
    "    # at run time with a training minibatch. / training data는 minibatch를 실시간으로 먹이기 위해 placeholder를 쓴다.\n",
    "    tf_train_dataset = tf.placeholder(tf.float32, shape=(batch_size, image_size * image_size))\n",
    "    tf_train_labels = tf.placeholder(tf.float32, shape=(batch_size, num_labels))\n",
    "    tf_valid_dataset = tf.constant(valid_dataset)\n",
    "    tf_test_dataset = tf.constant(test_dataset)\n",
    "  \n",
    "    # Variables.\n",
    "    weights1 = tf.Variable(tf.truncated_normal([image_size * image_size, hidden_node]))\n",
    "    biases1 = tf.Variable(tf.zeros([hidden_node]))\n",
    "    \n",
    "    weights2 = tf.Variable(tf.truncated_normal([hidden_node, num_labels]))\n",
    "    biases2 = tf.Variable(tf.zeros([num_labels]))\n",
    "    \"\"\"\n",
    "    def forward_prop(inp):\n",
    "        hidden_layer1 = tf.nn.relu(tf.matmul(inp, weights1)+biases1)\n",
    "        return tf.matmul(hidden_layer1, weights2) + biases2\n",
    "    \"\"\"\n",
    "    # Training computation.\n",
    "    \"\"\"\n",
    "    logits = forward_prop(tf_train_dataset)\n",
    "    \"\"\"\n",
    "    hidden_layer1 = tf.nn.relu(tf.matmul(tf_train_dataset, weights1)+biases1)\n",
    "    logits = tf.matmul(hidden_layer1, weights2) + biases2\n",
    "    loss = tf.reduce_mean(\n",
    "        tf.nn.softmax_cross_entropy_with_logits(logits, tf_train_labels))\n",
    "  \n",
    "    # Optimizer.\n",
    "    optimizer = tf.train.GradientDescentOptimizer(0.5).minimize(loss)\n",
    "  \n",
    "    # Predictions for the training, validation, and test data.\n",
    "    train_prediction = tf.nn.softmax(logits)\n",
    "    \n",
    "    layer1_valid = tf.nn.relu(tf.matmul(tf_valid_dataset, weights1)+biases1)\n",
    "    valid_prediction = tf.nn.softmax(tf.matmul(layer1_valid, weights2) + biases2) # just softmax(forward_prop(tf_valid_dataset))\n",
    "    \n",
    "    layer1_test = tf.nn.relu(tf.matmul(tf_test_dataset, weights1)+biases1)\n",
    "    test_prediction = tf.nn.softmax(tf.matmul(layer1_test, weights2) + biases2) # just softmax(forward_prop(tf_test_dataset))"
   ]
  },
  {
   "cell_type": "code",
   "execution_count": 9,
   "metadata": {
    "collapsed": false,
    "scrolled": true
   },
   "outputs": [
    {
     "name": "stdout",
     "output_type": "stream",
     "text": [
      "Initialized\n",
      "Minibatch loss at step 0: 287.765808\n",
      "Minibatch accuracy: 11.7%\n",
      "Validation accuracy: 30.9%\n",
      "Minibatch loss at step 500: 31.623407\n",
      "Minibatch accuracy: 78.1%\n",
      "Validation accuracy: 81.4%\n",
      "Minibatch loss at step 1000: 18.707457\n",
      "Minibatch accuracy: 81.2%\n",
      "Validation accuracy: 79.6%\n",
      "Minibatch loss at step 1500: 5.738024\n",
      "Minibatch accuracy: 78.9%\n",
      "Validation accuracy: 80.3%\n",
      "Minibatch loss at step 2000: 8.182550\n",
      "Minibatch accuracy: 82.0%\n",
      "Validation accuracy: 81.8%\n",
      "Minibatch loss at step 2500: 4.700353\n",
      "Minibatch accuracy: 84.4%\n",
      "Validation accuracy: 82.5%\n",
      "Minibatch loss at step 3000: 3.584045\n",
      "Minibatch accuracy: 81.2%\n",
      "Validation accuracy: 82.9%\n",
      "Test accuracy: 88.3%\n"
     ]
    }
   ],
   "source": [
    "num_steps = 3001\n",
    "\n",
    "with tf.Session(graph=graph) as session:\n",
    "  tf.initialize_all_variables().run()\n",
    "  print(\"Initialized\")\n",
    "  for step in range(num_steps):\n",
    "    # Pick an offset within the training data, which has been randomized. / 랜덤화된 training data안에 offset을 만든다.\n",
    "    # Note: we could use better randomization across epochs. / (시간?!) 랜덤을 더 잘 사용.\n",
    "    offset = (step * batch_size) % (train_labels.shape[0] - batch_size) # offset은 minibatch를 만들기 위해서..\n",
    "    # Generate a minibatch. / minibatch를 만든다.\n",
    "    batch_data = train_dataset[offset:(offset + batch_size), :] \n",
    "    batch_labels = train_labels[offset:(offset + batch_size), :]\n",
    "    # Prepare a dictionary telling the session where to feed the minibatch. / 사전 준비 세션을 말하는 어디에서 미니배치를 먹는지\n",
    "    # The key of the dictionary is the placeholder node of the graph to be fed, / 사전의 포인트는 먹히기 위해 그래프의 플홀 노드이다.\n",
    "    # and the value is the numpy array to feed to it. / 그리고 그 값은 넘피 배열이다.\n",
    "    # tensorflow의 docs에서 session.run()에 대한 부분을 보면, feed_dict은 다음과 같이 설명되어 있다.\n",
    "    # \n",
    "    feed_dict = {tf_train_dataset : batch_data, tf_train_labels : batch_labels}\n",
    "    _, l, predictions = session.run(\n",
    "      [optimizer, loss, train_prediction], feed_dict=feed_dict)\n",
    "    if (step % 500 == 0):\n",
    "      print(\"Minibatch loss at step %d: %f\" % (step, l))\n",
    "      print(\"Minibatch accuracy: %.1f%%\" % accuracy(predictions, batch_labels))\n",
    "      print(\"Validation accuracy: %.1f%%\" % accuracy(\n",
    "        valid_prediction.eval(), valid_labels))\n",
    "  print(\"Test accuracy: %.1f%%\" % accuracy(test_prediction.eval(), test_labels))"
   ]
  },
  {
   "cell_type": "code",
   "execution_count": null,
   "metadata": {
    "collapsed": true
   },
   "outputs": [],
   "source": []
  }
 ],
 "metadata": {
  "colab": {
   "default_view": {},
   "name": "2_fullyconnected.ipynb",
   "provenance": [],
   "version": "0.3.2",
   "views": {}
  },
  "kernelspec": {
   "display_name": "Python 2",
   "language": "python",
   "name": "python2"
  },
  "language_info": {
   "codemirror_mode": {
    "name": "ipython",
    "version": 2
   },
   "file_extension": ".py",
   "mimetype": "text/x-python",
   "name": "python",
   "nbconvert_exporter": "python",
   "pygments_lexer": "ipython2",
   "version": "2.7.6"
  }
 },
 "nbformat": 4,
 "nbformat_minor": 0
}
